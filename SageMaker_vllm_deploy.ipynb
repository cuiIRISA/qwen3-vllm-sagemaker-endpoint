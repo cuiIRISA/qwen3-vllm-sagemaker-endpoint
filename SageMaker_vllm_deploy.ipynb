{
 "cells": [
  {
   "attachments": {},
   "cell_type": "markdown",
   "id": "7cd89534-9dc8-47a5-baf5-40fd6056c218",
   "metadata": {},
   "source": [
    "# Deploy Qwen3 using vLLM with SageMaker vLLM 0.9.0"
   ]
  },
  {
   "cell_type": "markdown",
   "id": "37767cdd-46c7-494b-a7f1-eecb061e5375",
   "metadata": {},
   "source": [
    "## 0. Needed IAM Role Permissions\n",
    "\n",
    "- AmazonEC2ContainerRegistryFullAccess"
   ]
  },
  {
   "cell_type": "markdown",
   "id": "42a74d18-2ff5-411b-a45b-3f785aebc2ee",
   "metadata": {},
   "source": [
    "## 1. Create and Push Image to ECR **[ONLY RUN ONCE]**"
   ]
  },
  {
   "cell_type": "code",
   "execution_count": null,
   "id": "039279a1-d0ad-4266-beae-83b36cc959de",
   "metadata": {
    "tags": []
   },
   "outputs": [],
   "source": [
    "!pip install -U --quiet sagemaker boto3 awscli"
   ]
  },
  {
   "cell_type": "code",
   "execution_count": 1,
   "id": "b3957ae2-3b1f-4e46-b866-bdf9d2d8da9f",
   "metadata": {
    "tags": []
   },
   "outputs": [
    {
     "name": "stdout",
     "output_type": "stream",
     "text": [
      "sagemaker.config INFO - Not applying SDK defaults from location: /etc/xdg/sagemaker/config.yaml\n",
      "sagemaker.config INFO - Not applying SDK defaults from location: /home/ec2-user/.config/sagemaker/config.yaml\n"
     ]
    }
   ],
   "source": [
    "import boto3\n",
    "import sagemaker\n",
    "from sagemaker import get_execution_role\n",
    "\n",
    "ACCOUNT_ID = boto3.client('sts').get_caller_identity().get('Account')\n",
    "REGION_NAME = 'us-east-1'  # set your region name here\n",
    "REPO_NAME = \"vllm_env\"  # set your repo name here\n",
    "VERSION = \"v0.9.0\"\n",
    "\n",
    "CONTAINER = f\"{ACCOUNT_ID}.dkr.ecr.{REGION_NAME}.amazonaws.com/{REPO_NAME}:{VERSION}\""
   ]
  },
  {
   "cell_type": "code",
   "execution_count": 2,
   "id": "62614586-a59c-42f3-b302-a2280f82ad20",
   "metadata": {
    "tags": []
   },
   "outputs": [],
   "source": [
    "# Create ECR repo\n",
    "# ⚠️ Please add AmazonEC2ContainerRegistryFullAccess permission to your IAM Role.\n",
    "!aws ecr describe-repositories --repository-names {REPO_NAME} --region {REGION_NAME} > /dev/null 2>&1 || aws ecr create-repository --repository-name {REPO_NAME} --region {REGION_NAME}"
   ]
  },
  {
   "cell_type": "code",
   "execution_count": 3,
   "id": "95faa287-d8e7-4296-ae43-7036180fc1d9",
   "metadata": {
    "tags": []
   },
   "outputs": [
    {
     "name": "stdout",
     "output_type": "stream",
     "text": [
      "WARNING! Your password will be stored unencrypted in /home/ec2-user/.docker/config.json.\n",
      "Configure a credential helper to remove this warning. See\n",
      "https://docs.docker.com/engine/reference/commandline/login/#credentials-store\n",
      "\n",
      "Login Succeeded\n",
      "Building docker. This may take few minutes...\n",
      "sha256:9f596cd9fa9bdaf9170efbe2808d4b8d2b00914f41e06036fc7f4ae7fe486de1\n"
     ]
    }
   ],
   "source": [
    "# Build image\n",
    "CONTAINER = f\"{ACCOUNT_ID}.dkr.ecr.{REGION_NAME}.amazonaws.com/{REPO_NAME}:{VERSION}\"\n",
    "\n",
    "!aws ecr get-login-password --region {REGION_NAME} | docker login --username AWS --password-stdin {ACCOUNT_ID}.dkr.ecr.{REGION_NAME}.amazonaws.com\n",
    "print('Building docker. This may take few minutes...')\n",
    "!docker build --quiet --build-arg VERSION={VERSION} -t {REPO_NAME}:{VERSION} ."
   ]
  },
  {
   "cell_type": "code",
   "execution_count": 4,
   "id": "b1a15083-24ce-47bb-af0e-4df71499f692",
   "metadata": {
    "tags": []
   },
   "outputs": [
    {
     "name": "stdout",
     "output_type": "stream",
     "text": [
      "Pushing docker. This may take few minutes...\n",
      "The push refers to repository [707684582322.dkr.ecr.us-east-1.amazonaws.com/vllm_env]\n",
      "\n",
      "\u001b[1B21767f72: Preparing \n",
      "\u001b[1Bfdcb7075: Preparing \n",
      "\u001b[1B81d97e6f: Preparing \n",
      "\u001b[1B08cb7a01: Preparing \n",
      "\u001b[1Bb493b5dd: Preparing \n",
      "\u001b[1B5a093913: Preparing \n",
      "\u001b[1Be0fe2c90: Preparing \n",
      "\u001b[1B5c61a51d: Preparing \n",
      "\u001b[1B07f221b0: Preparing \n",
      "\u001b[1B9783bfa4: Preparing \n",
      "\u001b[1B75a9c340: Preparing \n",
      "\u001b[1Be31b14be: Preparing \n",
      "\u001b[1Ba4092c27: Preparing \n",
      "\u001b[1B852f509a: Preparing \n",
      "\u001b[1B75852a44: Preparing \n",
      "\u001b[1Baa4bda21: Preparing \n",
      "\u001b[1B4454a678: Preparing \n",
      "\u001b[12B0fe2c90: Waiting g \n",
      "\u001b[1Bae9b9700: Preparing \n",
      "\u001b[11B783bfa4: Waiting g \n",
      "\u001b[1B58f70e37: Preparing \n",
      "\u001b[14B7f221b0: Waiting g \n",
      "\u001b[1B43fcce68: Preparing \n",
      "\u001b[12B4092c27: Waiting g \n",
      "\u001b[15B5a9c340: Waiting g \n",
      "\u001b[9B0d2ed199: Waiting g \n",
      "\u001b[1B6a9e7760: Preparing \n",
      "\u001b[18Bv0.9.0: digest: sha256:9d3207b1947e2db87b2aaebb0fa5193d1efe4966a55a6f687117073745f6929a size: 6193\n"
     ]
    }
   ],
   "source": [
    "# Push image to ECR\n",
    "# ⚠️ Please add AmazonEC2ContainerRegistryFullAccess permission to your IAM Role.\n",
    "!docker tag {REPO_NAME}:{VERSION} {CONTAINER}\n",
    "print('Pushing docker. This may take few minutes...')\n",
    "!docker push {CONTAINER}"
   ]
  },
  {
   "cell_type": "code",
   "execution_count": 11,
   "id": "1e6699df-822f-479b-bb1e-9ae494764c40",
   "metadata": {
    "tags": []
   },
   "outputs": [
    {
     "name": "stdout",
     "output_type": "stream",
     "text": [
      "Please use this container url for further deployment!\n",
      "707684582322.dkr.ecr.us-east-1.amazonaws.com/vllm_env:v0.9.0\n"
     ]
    }
   ],
   "source": [
    "print('Please use this container url for further deployment!')\n",
    "print(CONTAINER)"
   ]
  },
  {
   "cell_type": "markdown",
   "id": "018c632b",
   "metadata": {},
   "source": [
    "## 2. Deploy"
   ]
  },
  {
   "cell_type": "code",
   "execution_count": 14,
   "id": "0651d827-0dd0-487b-9163-185020c001e1",
   "metadata": {},
   "outputs": [],
   "source": [
    "# ⚠️ Please add AmazonS3FullAccess permission to your IAM Role.\n",
    "REGION_NAME = \"us-east-1\"  # Set your region name\n",
    "\n",
    "INSTANCE_TYPE = 'ml.p4de.24xlarge'\n",
    "INITIAL_INSTANCE_COUNT = 1\n",
    "\n",
    "# Set vLLM Options.\n",
    "# Sagemaker uses environment variables (with \"SM_VLLM_\" prefix) to control vLLM Server's options\n",
    "# E.g., \"--max_model_len 512\" equals to {\"SM_VLLM_MAX_MODEL_LEN\": \"512\"}\n",
    "VLLM_ENV = {\n",
    "    #'SM_VLLM_MODEL': \"Qwen/Qwen3-30B-A3B\",\n",
    "    'SM_VLLM_MODEL': \"Qwen/Qwen3-235B-A22B\",\n",
    "    'SM_VLLM_TENSOR_PARALLEL_SIZE': '8',\n",
    "    'SM_VLLM_MAX_MODEL_LEN': '32768',\n",
    "    'SM_VLLM_MAX_NUM_SEQS': '128',\n",
    "    'SM_VLLM_GPU_MEMORY_UTILIZATION': '0.9',\n",
    "}"
   ]
  },
  {
   "cell_type": "code",
   "execution_count": null,
   "id": "79fbaf75-ecb6-42b0-9edf-c23607716d63",
   "metadata": {
    "tags": []
   },
   "outputs": [
    {
     "name": "stdout",
     "output_type": "stream",
     "text": [
      "----------------------------"
     ]
    }
   ],
   "source": [
    "import os\n",
    "import boto3\n",
    "import datetime\n",
    "import sagemaker\n",
    "from sagemaker.s3 import S3Uploader\n",
    "\n",
    "\n",
    "timestamp = datetime.datetime.now().strftime(\"%Y-%m-%d-%H-%M-%S-%f\")[:-3]\n",
    "\n",
    "boto_session = boto3.Session(region_name=REGION_NAME)\n",
    "sagemaker_session = sagemaker.Session(boto_session=boto_session)\n",
    "iam_role = sagemaker.get_execution_role(sagemaker_session=sagemaker_session)\n",
    "\n",
    "# create a unique name\n",
    "model_name = f\"Qwen3-30B-{timestamp}\"\n",
    "endpoint_name = sagemaker.utils.name_from_base(\"Qwen3-30B\")\n",
    "\n",
    "model = sagemaker.Model(\n",
    "    name=model_name,\n",
    "    image_uri=CONTAINER,\n",
    "    sagemaker_session=sagemaker_session,\n",
    "    role=iam_role,\n",
    "    env=VLLM_ENV,\n",
    ")\n",
    "\n",
    "predictor = model.deploy(\n",
    "    instance_type=INSTANCE_TYPE,\n",
    "    initial_instance_count=INITIAL_INSTANCE_COUNT,\n",
    "    endpoint_name=endpoint_name,\n",
    "    container_startup_health_check_timeout=3600\n",
    ")\n",
    "print(f'Endpoint Name: {endpoint_name}')"
   ]
  },
  {
   "cell_type": "markdown",
   "id": "61f17894",
   "metadata": {},
   "source": [
    "## 3. Test"
   ]
  },
  {
   "cell_type": "code",
   "execution_count": null,
   "id": "612d53fe-83b1-4760-82df-51b138f7c552",
   "metadata": {},
   "outputs": [],
   "source": []
  },
  {
   "cell_type": "code",
   "execution_count": 16,
   "id": "99506886",
   "metadata": {},
   "outputs": [],
   "source": [
    "endpoint_name = \"Qwen3-30B-2025-06-12-10-58-48-818\"  # Set your deployed endpoint name. You can find it in your SageMaker AI Dashboard\n",
    "REGION_NAME = \"us-east-1\"  # Set your region name"
   ]
  },
  {
   "cell_type": "code",
   "execution_count": 27,
   "id": "ba7c3afd-101a-45de-be7b-099b3420f9b2",
   "metadata": {
    "tags": []
   },
   "outputs": [
    {
     "name": "stdout",
     "output_type": "stream",
     "text": [
      "{'id': 'chatcmpl-00c1d6caf4194b1bb6de91fd7b4fe339', 'object': 'chat.completion', 'created': 1749730277, 'model': 'Qwen/Qwen3-235B-A22B', 'choices': [{'index': 0, 'message': {'role': 'assistant', 'reasoning_content': None, 'content': '<think>\\nLet me analyze this greeting carefully. The user sent a simple friendly greeting in Chinese: \"Hi, how are you doing?\" This is a common conversational opener that serves multiple purposes - it establishes contact, shows basic courtesy, and opens the door for further interaction.\\n\\nFrom a technical perspective, this query is straightforward but important. It tests my ability to recognize and respond appropriately to casual greetings, which are fundamental to natural human-AI interaction. The greeting itself contains both an opening (\"Hi\")', 'tool_calls': []}, 'logprobs': None, 'finish_reason': 'length', 'stop_reason': None}], 'usage': {'prompt_tokens': 15, 'total_tokens': 115, 'completion_tokens': 100, 'prompt_tokens_details': None}, 'prompt_logprobs': None, 'kv_transfer_params': None}\n"
     ]
    }
   ],
   "source": [
    "import json\n",
    "import boto3\n",
    "import base64\n",
    "\n",
    "payload = {\n",
    "    \"model\": \"Qwen/Qwen3-235B-A22B\",\n",
    "    \"messages\": [\n",
    "        {\n",
    "            \"role\": \"user\",\n",
    "            \"content\": [\n",
    "                {\n",
    "                    \"type\": \"text\",\n",
    "                    \"text\": \"Hi, how are you doing?\"\n",
    "                }\n",
    "        ]}\n",
    "    ],\n",
    "    \"temperature\": 0.7,\n",
    "    \"max_tokens\": 100,\n",
    "    \"stream\": False\n",
    "}\n",
    "\n",
    "runtime_sm_client = boto3.client('sagemaker-runtime', region_name=REGION_NAME)\n",
    "response = runtime_sm_client.invoke_endpoint(\n",
    "    EndpointName=endpoint_name,\n",
    "    ContentType='application/json',\n",
    "    Body=json.dumps(payload)\n",
    ")\n",
    "\n",
    "response_body = json.loads(response['Body'].read().decode())\n",
    "print(response_body)\n"
   ]
  },
  {
   "cell_type": "markdown",
   "id": "cc2faf66-b594-4166-a870-978fd2ed8ff3",
   "metadata": {},
   "source": [
    "# Streaming for longer session connection (up to 8 minutes)"
   ]
  },
  {
   "cell_type": "code",
   "execution_count": 30,
   "id": "de3fc785-7ead-4688-a927-a11de6dbf56e",
   "metadata": {},
   "outputs": [],
   "source": [
    "payload = {\n",
    "    \"model\": \"Qwen/Qwen3-235B-A22B\",\n",
    "    \"messages\": [\n",
    "        {\n",
    "            \"role\": \"user\",\n",
    "            \"content\": [\n",
    "                {\n",
    "                    \"type\": \"text\",\n",
    "                    \"text\": \"Hi, how are you doing?\"\n",
    "                }\n",
    "        ]}\n",
    "    ],\n",
    "    \"temperature\": 0.7,\n",
    "    \"max_tokens\": 100,\n",
    "    \"stream\": True\n",
    "}"
   ]
  },
  {
   "cell_type": "code",
   "execution_count": 31,
   "id": "d8bd9266-ee09-4995-b5ab-e260d21f638e",
   "metadata": {},
   "outputs": [
    {
     "name": "stdout",
     "output_type": "stream",
     "text": [
      "{'id': 'chatcmpl-998a6800e0d04a28b6196e8580d8f92a', 'object': 'chat.completion.chunk', 'created': 1749730371, 'model': 'Qwen/Qwen3-235B-A22B', 'choices': [{'index': 0, 'delta': {'role': 'assistant', 'content': ''}, 'logprobs': None, 'finish_reason': None}]}\n",
      "{'id': 'chatcmpl-998a6800e0d04a28b6196e8580d8f92a', 'object': 'chat.completion.chunk', 'created': 1749730371, 'model': 'Qwen/Qwen3-235B-A22B', 'choices': [{'index': 0, 'delta': {'content': '<think>', 'tool_calls': []}}]}\n",
      "{'id': 'chatcmpl-998a6800e0d04a28b6196e8580d8f92a', 'object': 'chat.completion.chunk', 'created': 1749730371, 'model': 'Qwen/Qwen3-235B-A22B', 'choices': [{'index': 0, 'delta': {'content': '\\n', 'tool_calls': []}}]}\n",
      "{'id': 'chatcmpl-998a6800e0d04a28b6196e8580d8f92a', 'object': 'chat.completion.chunk', 'created': 1749730371, 'model': 'Qwen/Qwen3-235B-A22B', 'choices': [{'index': 0, 'delta': {'content': 'Let', 'tool_calls': []}}]}\n",
      "{'id': 'chatcmpl-998a6800e0d04a28b6196e8580d8f92a', 'object': 'chat.completion.chunk', 'created': 1749730371, 'model': 'Qwen/Qwen3-235B-A22B', 'choices': [{'index': 0, 'delta': {'content': ' me', 'tool_calls': []}}]}\n",
      "{'id': 'chatcmpl-998a6800e0d04a28b6196e8580d8f92a', 'object': 'chat.completion.chunk', 'created': 1749730371, 'model': 'Qwen/Qwen3-235B-A22B', 'choices': [{'index': 0, 'delta': {'content': ' analyze', 'tool_calls': []}}]}\n",
      "{'id': 'chatcmpl-998a6800e0d04a28b6196e8580d8f92a', 'object': 'chat.completion.chunk', 'created': 1749730371, 'model': 'Qwen/Qwen3-235B-A22B', 'choices': [{'index': 0, 'delta': {'content': ' this', 'tool_calls': []}}]}\n",
      "{'id': 'chatcmpl-998a6800e0d04a28b6196e8580d8f92a', 'object': 'chat.completion.chunk', 'created': 1749730371, 'model': 'Qwen/Qwen3-235B-A22B', 'choices': [{'index': 0, 'delta': {'content': ' greeting', 'tool_calls': []}}]}\n",
      "{'id': 'chatcmpl-998a6800e0d04a28b6196e8580d8f92a', 'object': 'chat.completion.chunk', 'created': 1749730371, 'model': 'Qwen/Qwen3-235B-A22B', 'choices': [{'index': 0, 'delta': {'content': ' carefully', 'tool_calls': []}}]}\n",
      "{'id': 'chatcmpl-998a6800e0d04a28b6196e8580d8f92a', 'object': 'chat.completion.chunk', 'created': 1749730371, 'model': 'Qwen/Qwen3-235B-A22B', 'choices': [{'index': 0, 'delta': {'content': '.', 'tool_calls': []}}]}\n",
      "{'id': 'chatcmpl-998a6800e0d04a28b6196e8580d8f92a', 'object': 'chat.completion.chunk', 'created': 1749730371, 'model': 'Qwen/Qwen3-235B-A22B', 'choices': [{'index': 0, 'delta': {'content': ' The', 'tool_calls': []}}]}\n",
      "{'id': 'chatcmpl-998a6800e0d04a28b6196e8580d8f92a', 'object': 'chat.completion.chunk', 'created': 1749730371, 'model': 'Qwen/Qwen3-235B-A22B', 'choices': [{'index': 0, 'delta': {'content': ' user', 'tool_calls': []}}]}\n",
      "{'id': 'chatcmpl-998a6800e0d04a28b6196e8580d8f92a', 'object': 'chat.completion.chunk', 'created': 1749730371, 'model': 'Qwen/Qwen3-235B-A22B', 'choices': [{'index': 0, 'delta': {'content': ' has', 'tool_calls': []}}]}\n",
      "{'id': 'chatcmpl-998a6800e0d04a28b6196e8580d8f92a', 'object': 'chat.completion.chunk', 'created': 1749730371, 'model': 'Qwen/Qwen3-235B-A22B', 'choices': [{'index': 0, 'delta': {'content': ' opened', 'tool_calls': []}}]}\n",
      "{'id': 'chatcmpl-998a6800e0d04a28b6196e8580d8f92a', 'object': 'chat.completion.chunk', 'created': 1749730371, 'model': 'Qwen/Qwen3-235B-A22B', 'choices': [{'index': 0, 'delta': {'content': ' with', 'tool_calls': []}}]}\n",
      "{'id': 'chatcmpl-998a6800e0d04a28b6196e8580d8f92a', 'object': 'chat.completion.chunk', 'created': 1749730371, 'model': 'Qwen/Qwen3-235B-A22B', 'choices': [{'index': 0, 'delta': {'content': ' a', 'tool_calls': []}}]}\n",
      "{'id': 'chatcmpl-998a6800e0d04a28b6196e8580d8f92a', 'object': 'chat.completion.chunk', 'created': 1749730371, 'model': 'Qwen/Qwen3-235B-A22B', 'choices': [{'index': 0, 'delta': {'content': ' friendly', 'tool_calls': []}}]}\n",
      "{'id': 'chatcmpl-998a6800e0d04a28b6196e8580d8f92a', 'object': 'chat.completion.chunk', 'created': 1749730371, 'model': 'Qwen/Qwen3-235B-A22B', 'choices': [{'index': 0, 'delta': {'content': ' inquiry', 'tool_calls': []}}]}\n",
      "{'id': 'chatcmpl-998a6800e0d04a28b6196e8580d8f92a', 'object': 'chat.completion.chunk', 'created': 1749730371, 'model': 'Qwen/Qwen3-235B-A22B', 'choices': [{'index': 0, 'delta': {'content': ' about', 'tool_calls': []}}]}\n",
      "{'id': 'chatcmpl-998a6800e0d04a28b6196e8580d8f92a', 'object': 'chat.completion.chunk', 'created': 1749730371, 'model': 'Qwen/Qwen3-235B-A22B', 'choices': [{'index': 0, 'delta': {'content': ' my', 'tool_calls': []}}]}\n",
      "{'id': 'chatcmpl-998a6800e0d04a28b6196e8580d8f92a', 'object': 'chat.completion.chunk', 'created': 1749730371, 'model': 'Qwen/Qwen3-235B-A22B', 'choices': [{'index': 0, 'delta': {'content': ' well', 'tool_calls': []}}]}\n",
      "{'id': 'chatcmpl-998a6800e0d04a28b6196e8580d8f92a', 'object': 'chat.completion.chunk', 'created': 1749730371, 'model': 'Qwen/Qwen3-235B-A22B', 'choices': [{'index': 0, 'delta': {'content': '-being', 'tool_calls': []}}]}\n",
      "{'id': 'chatcmpl-998a6800e0d04a28b6196e8580d8f92a', 'object': 'chat.completion.chunk', 'created': 1749730371, 'model': 'Qwen/Qwen3-235B-A22B', 'choices': [{'index': 0, 'delta': {'content': ',', 'tool_calls': []}}]}\n",
      "{'id': 'chatcmpl-998a6800e0d04a28b6196e8580d8f92a', 'object': 'chat.completion.chunk', 'created': 1749730371, 'model': 'Qwen/Qwen3-235B-A22B', 'choices': [{'index': 0, 'delta': {'content': ' which', 'tool_calls': []}}]}\n",
      "{'id': 'chatcmpl-998a6800e0d04a28b6196e8580d8f92a', 'object': 'chat.completion.chunk', 'created': 1749730371, 'model': 'Qwen/Qwen3-235B-A22B', 'choices': [{'index': 0, 'delta': {'content': ' serves', 'tool_calls': []}}]}\n",
      "{'id': 'chatcmpl-998a6800e0d04a28b6196e8580d8f92a', 'object': 'chat.completion.chunk', 'created': 1749730371, 'model': 'Qwen/Qwen3-235B-A22B', 'choices': [{'index': 0, 'delta': {'content': ' as', 'tool_calls': []}}]}\n",
      "{'id': 'chatcmpl-998a6800e0d04a28b6196e8580d8f92a', 'object': 'chat.completion.chunk', 'created': 1749730371, 'model': 'Qwen/Qwen3-235B-A22B', 'choices': [{'index': 0, 'delta': {'content': ' a', 'tool_calls': []}}]}\n",
      "{'id': 'chatcmpl-998a6800e0d04a28b6196e8580d8f92a', 'object': 'chat.completion.chunk', 'created': 1749730371, 'model': 'Qwen/Qwen3-235B-A22B', 'choices': [{'index': 0, 'delta': {'content': ' common', 'tool_calls': []}}]}\n",
      "{'id': 'chatcmpl-998a6800e0d04a28b6196e8580d8f92a', 'object': 'chat.completion.chunk', 'created': 1749730371, 'model': 'Qwen/Qwen3-235B-A22B', 'choices': [{'index': 0, 'delta': {'content': ' convers', 'tool_calls': []}}]}\n",
      "{'id': 'chatcmpl-998a6800e0d04a28b6196e8580d8f92a', 'object': 'chat.completion.chunk', 'created': 1749730371, 'model': 'Qwen/Qwen3-235B-A22B', 'choices': [{'index': 0, 'delta': {'content': 'ational', 'tool_calls': []}}]}\n",
      "{'id': 'chatcmpl-998a6800e0d04a28b6196e8580d8f92a', 'object': 'chat.completion.chunk', 'created': 1749730371, 'model': 'Qwen/Qwen3-235B-A22B', 'choices': [{'index': 0, 'delta': {'content': ' opener', 'tool_calls': []}}]}\n",
      "{'id': 'chatcmpl-998a6800e0d04a28b6196e8580d8f92a', 'object': 'chat.completion.chunk', 'created': 1749730371, 'model': 'Qwen/Qwen3-235B-A22B', 'choices': [{'index': 0, 'delta': {'content': '.', 'tool_calls': []}}]}\n",
      "{'id': 'chatcmpl-998a6800e0d04a28b6196e8580d8f92a', 'object': 'chat.completion.chunk', 'created': 1749730371, 'model': 'Qwen/Qwen3-235B-A22B', 'choices': [{'index': 0, 'delta': {'content': ' While', 'tool_calls': []}}]}\n",
      "{'id': 'chatcmpl-998a6800e0d04a28b6196e8580d8f92a', 'object': 'chat.completion.chunk', 'created': 1749730371, 'model': 'Qwen/Qwen3-235B-A22B', 'choices': [{'index': 0, 'delta': {'content': ' it', 'tool_calls': []}}]}\n",
      "{'id': 'chatcmpl-998a6800e0d04a28b6196e8580d8f92a', 'object': 'chat.completion.chunk', 'created': 1749730371, 'model': 'Qwen/Qwen3-235B-A22B', 'choices': [{'index': 0, 'delta': {'content': ' seems', 'tool_calls': []}}]}\n",
      "{'id': 'chatcmpl-998a6800e0d04a28b6196e8580d8f92a', 'object': 'chat.completion.chunk', 'created': 1749730371, 'model': 'Qwen/Qwen3-235B-A22B', 'choices': [{'index': 0, 'delta': {'content': ' straightforward', 'tool_calls': []}}]}\n",
      "{'id': 'chatcmpl-998a6800e0d04a28b6196e8580d8f92a', 'object': 'chat.completion.chunk', 'created': 1749730371, 'model': 'Qwen/Qwen3-235B-A22B', 'choices': [{'index': 0, 'delta': {'content': ',', 'tool_calls': []}}]}\n",
      "{'id': 'chatcmpl-998a6800e0d04a28b6196e8580d8f92a', 'object': 'chat.completion.chunk', 'created': 1749730371, 'model': 'Qwen/Qwen3-235B-A22B', 'choices': [{'index': 0, 'delta': {'content': ' there', 'tool_calls': []}}]}\n",
      "{'id': 'chatcmpl-998a6800e0d04a28b6196e8580d8f92a', 'object': 'chat.completion.chunk', 'created': 1749730371, 'model': 'Qwen/Qwen3-235B-A22B', 'choices': [{'index': 0, 'delta': {'content': ' are', 'tool_calls': []}}]}\n",
      "{'id': 'chatcmpl-998a6800e0d04a28b6196e8580d8f92a', 'object': 'chat.completion.chunk', 'created': 1749730371, 'model': 'Qwen/Qwen3-235B-A22B', 'choices': [{'index': 0, 'delta': {'content': ' nuances', 'tool_calls': []}}]}\n",
      "{'id': 'chatcmpl-998a6800e0d04a28b6196e8580d8f92a', 'object': 'chat.completion.chunk', 'created': 1749730371, 'model': 'Qwen/Qwen3-235B-A22B', 'choices': [{'index': 0, 'delta': {'content': ' to', 'tool_calls': []}}]}\n",
      "{'id': 'chatcmpl-998a6800e0d04a28b6196e8580d8f92a', 'object': 'chat.completion.chunk', 'created': 1749730371, 'model': 'Qwen/Qwen3-235B-A22B', 'choices': [{'index': 0, 'delta': {'content': ' consider', 'tool_calls': []}}]}\n",
      "{'id': 'chatcmpl-998a6800e0d04a28b6196e8580d8f92a', 'object': 'chat.completion.chunk', 'created': 1749730371, 'model': 'Qwen/Qwen3-235B-A22B', 'choices': [{'index': 0, 'delta': {'content': ' in', 'tool_calls': []}}]}\n",
      "{'id': 'chatcmpl-998a6800e0d04a28b6196e8580d8f92a', 'object': 'chat.completion.chunk', 'created': 1749730371, 'model': 'Qwen/Qwen3-235B-A22B', 'choices': [{'index': 0, 'delta': {'content': ' form', 'tool_calls': []}}]}\n",
      "{'id': 'chatcmpl-998a6800e0d04a28b6196e8580d8f92a', 'object': 'chat.completion.chunk', 'created': 1749730371, 'model': 'Qwen/Qwen3-235B-A22B', 'choices': [{'index': 0, 'delta': {'content': 'ulating', 'tool_calls': []}}]}\n",
      "{'id': 'chatcmpl-998a6800e0d04a28b6196e8580d8f92a', 'object': 'chat.completion.chunk', 'created': 1749730371, 'model': 'Qwen/Qwen3-235B-A22B', 'choices': [{'index': 0, 'delta': {'content': ' an', 'tool_calls': []}}]}\n",
      "{'id': 'chatcmpl-998a6800e0d04a28b6196e8580d8f92a', 'object': 'chat.completion.chunk', 'created': 1749730371, 'model': 'Qwen/Qwen3-235B-A22B', 'choices': [{'index': 0, 'delta': {'content': ' appropriate', 'tool_calls': []}}]}\n",
      "{'id': 'chatcmpl-998a6800e0d04a28b6196e8580d8f92a', 'object': 'chat.completion.chunk', 'created': 1749730371, 'model': 'Qwen/Qwen3-235B-A22B', 'choices': [{'index': 0, 'delta': {'content': ' response', 'tool_calls': []}}]}\n",
      "{'id': 'chatcmpl-998a6800e0d04a28b6196e8580d8f92a', 'object': 'chat.completion.chunk', 'created': 1749730371, 'model': 'Qwen/Qwen3-235B-A22B', 'choices': [{'index': 0, 'delta': {'content': '.\\n\\n', 'tool_calls': []}}]}\n",
      "{'id': 'chatcmpl-998a6800e0d04a28b6196e8580d8f92a', 'object': 'chat.completion.chunk', 'created': 1749730371, 'model': 'Qwen/Qwen3-235B-A22B', 'choices': [{'index': 0, 'delta': {'content': 'First', 'tool_calls': []}}]}\n",
      "{'id': 'chatcmpl-998a6800e0d04a28b6196e8580d8f92a', 'object': 'chat.completion.chunk', 'created': 1749730371, 'model': 'Qwen/Qwen3-235B-A22B', 'choices': [{'index': 0, 'delta': {'content': ',', 'tool_calls': []}}]}\n",
      "{'id': 'chatcmpl-998a6800e0d04a28b6196e8580d8f92a', 'object': 'chat.completion.chunk', 'created': 1749730371, 'model': 'Qwen/Qwen3-235B-A22B', 'choices': [{'index': 0, 'delta': {'content': ' I', 'tool_calls': []}}]}\n",
      "{'id': 'chatcmpl-998a6800e0d04a28b6196e8580d8f92a', 'object': 'chat.completion.chunk', 'created': 1749730371, 'model': 'Qwen/Qwen3-235B-A22B', 'choices': [{'index': 0, 'delta': {'content': ' should', 'tool_calls': []}}]}\n",
      "{'id': 'chatcmpl-998a6800e0d04a28b6196e8580d8f92a', 'object': 'chat.completion.chunk', 'created': 1749730371, 'model': 'Qwen/Qwen3-235B-A22B', 'choices': [{'index': 0, 'delta': {'content': ' acknowledge', 'tool_calls': []}}]}\n",
      "{'id': 'chatcmpl-998a6800e0d04a28b6196e8580d8f92a', 'object': 'chat.completion.chunk', 'created': 1749730371, 'model': 'Qwen/Qwen3-235B-A22B', 'choices': [{'index': 0, 'delta': {'content': ' their', 'tool_calls': []}}]}\n",
      "{'id': 'chatcmpl-998a6800e0d04a28b6196e8580d8f92a', 'object': 'chat.completion.chunk', 'created': 1749730371, 'model': 'Qwen/Qwen3-235B-A22B', 'choices': [{'index': 0, 'delta': {'content': ' greeting', 'tool_calls': []}}]}\n",
      "{'id': 'chatcmpl-998a6800e0d04a28b6196e8580d8f92a', 'object': 'chat.completion.chunk', 'created': 1749730371, 'model': 'Qwen/Qwen3-235B-A22B', 'choices': [{'index': 0, 'delta': {'content': ' while', 'tool_calls': []}}]}\n",
      "{'id': 'chatcmpl-998a6800e0d04a28b6196e8580d8f92a', 'object': 'chat.completion.chunk', 'created': 1749730371, 'model': 'Qwen/Qwen3-235B-A22B', 'choices': [{'index': 0, 'delta': {'content': ' maintaining', 'tool_calls': []}}]}\n",
      "{'id': 'chatcmpl-998a6800e0d04a28b6196e8580d8f92a', 'object': 'chat.completion.chunk', 'created': 1749730371, 'model': 'Qwen/Qwen3-235B-A22B', 'choices': [{'index': 0, 'delta': {'content': ' authenticity', 'tool_calls': []}}]}\n",
      "{'id': 'chatcmpl-998a6800e0d04a28b6196e8580d8f92a', 'object': 'chat.completion.chunk', 'created': 1749730371, 'model': 'Qwen/Qwen3-235B-A22B', 'choices': [{'index': 0, 'delta': {'content': '.', 'tool_calls': []}}]}\n",
      "{'id': 'chatcmpl-998a6800e0d04a28b6196e8580d8f92a', 'object': 'chat.completion.chunk', 'created': 1749730371, 'model': 'Qwen/Qwen3-235B-A22B', 'choices': [{'index': 0, 'delta': {'content': ' A', 'tool_calls': []}}]}\n",
      "{'id': 'chatcmpl-998a6800e0d04a28b6196e8580d8f92a', 'object': 'chat.completion.chunk', 'created': 1749730371, 'model': 'Qwen/Qwen3-235B-A22B', 'choices': [{'index': 0, 'delta': {'content': ' simple', 'tool_calls': []}}]}\n",
      "{'id': 'chatcmpl-998a6800e0d04a28b6196e8580d8f92a', 'object': 'chat.completion.chunk', 'created': 1749730371, 'model': 'Qwen/Qwen3-235B-A22B', 'choices': [{'index': 0, 'delta': {'content': ' \"', 'tool_calls': []}}]}\n",
      "{'id': 'chatcmpl-998a6800e0d04a28b6196e8580d8f92a', 'object': 'chat.completion.chunk', 'created': 1749730371, 'model': 'Qwen/Qwen3-235B-A22B', 'choices': [{'index': 0, 'delta': {'content': 'I', 'tool_calls': []}}]}\n",
      "{'id': 'chatcmpl-998a6800e0d04a28b6196e8580d8f92a', 'object': 'chat.completion.chunk', 'created': 1749730371, 'model': 'Qwen/Qwen3-235B-A22B', 'choices': [{'index': 0, 'delta': {'content': \"'m\", 'tool_calls': []}}]}\n",
      "{'id': 'chatcmpl-998a6800e0d04a28b6196e8580d8f92a', 'object': 'chat.completion.chunk', 'created': 1749730371, 'model': 'Qwen/Qwen3-235B-A22B', 'choices': [{'index': 0, 'delta': {'content': ' fine', 'tool_calls': []}}]}\n",
      "{'id': 'chatcmpl-998a6800e0d04a28b6196e8580d8f92a', 'object': 'chat.completion.chunk', 'created': 1749730371, 'model': 'Qwen/Qwen3-235B-A22B', 'choices': [{'index': 0, 'delta': {'content': '\"', 'tool_calls': []}}]}\n",
      "{'id': 'chatcmpl-998a6800e0d04a28b6196e8580d8f92a', 'object': 'chat.completion.chunk', 'created': 1749730371, 'model': 'Qwen/Qwen3-235B-A22B', 'choices': [{'index': 0, 'delta': {'content': ' might', 'tool_calls': []}}]}\n",
      "{'id': 'chatcmpl-998a6800e0d04a28b6196e8580d8f92a', 'object': 'chat.completion.chunk', 'created': 1749730371, 'model': 'Qwen/Qwen3-235B-A22B', 'choices': [{'index': 0, 'delta': {'content': ' be', 'tool_calls': []}}]}\n",
      "{'id': 'chatcmpl-998a6800e0d04a28b6196e8580d8f92a', 'object': 'chat.completion.chunk', 'created': 1749730371, 'model': 'Qwen/Qwen3-235B-A22B', 'choices': [{'index': 0, 'delta': {'content': ' technically', 'tool_calls': []}}]}\n",
      "{'id': 'chatcmpl-998a6800e0d04a28b6196e8580d8f92a', 'object': 'chat.completion.chunk', 'created': 1749730371, 'model': 'Qwen/Qwen3-235B-A22B', 'choices': [{'index': 0, 'delta': {'content': ' correct', 'tool_calls': []}}]}\n",
      "{'id': 'chatcmpl-998a6800e0d04a28b6196e8580d8f92a', 'object': 'chat.completion.chunk', 'created': 1749730371, 'model': 'Qwen/Qwen3-235B-A22B', 'choices': [{'index': 0, 'delta': {'content': ' but', 'tool_calls': []}}]}\n",
      "{'id': 'chatcmpl-998a6800e0d04a28b6196e8580d8f92a', 'object': 'chat.completion.chunk', 'created': 1749730371, 'model': 'Qwen/Qwen3-235B-A22B', 'choices': [{'index': 0, 'delta': {'content': ' could', 'tool_calls': []}}]}\n",
      "{'id': 'chatcmpl-998a6800e0d04a28b6196e8580d8f92a', 'object': 'chat.completion.chunk', 'created': 1749730371, 'model': 'Qwen/Qwen3-235B-A22B', 'choices': [{'index': 0, 'delta': {'content': ' come', 'tool_calls': []}}]}\n",
      "{'id': 'chatcmpl-998a6800e0d04a28b6196e8580d8f92a', 'object': 'chat.completion.chunk', 'created': 1749730371, 'model': 'Qwen/Qwen3-235B-A22B', 'choices': [{'index': 0, 'delta': {'content': ' across', 'tool_calls': []}}]}\n",
      "{'id': 'chatcmpl-998a6800e0d04a28b6196e8580d8f92a', 'object': 'chat.completion.chunk', 'created': 1749730371, 'model': 'Qwen/Qwen3-235B-A22B', 'choices': [{'index': 0, 'delta': {'content': ' as', 'tool_calls': []}}]}\n",
      "{'id': 'chatcmpl-998a6800e0d04a28b6196e8580d8f92a', 'object': 'chat.completion.chunk', 'created': 1749730371, 'model': 'Qwen/Qwen3-235B-A22B', 'choices': [{'index': 0, 'delta': {'content': ' mechanical', 'tool_calls': []}}]}\n",
      "{'id': 'chatcmpl-998a6800e0d04a28b6196e8580d8f92a', 'object': 'chat.completion.chunk', 'created': 1749730371, 'model': 'Qwen/Qwen3-235B-A22B', 'choices': [{'index': 0, 'delta': {'content': '.', 'tool_calls': []}}]}\n",
      "{'id': 'chatcmpl-998a6800e0d04a28b6196e8580d8f92a', 'object': 'chat.completion.chunk', 'created': 1749730371, 'model': 'Qwen/Qwen3-235B-A22B', 'choices': [{'index': 0, 'delta': {'content': ' On', 'tool_calls': []}}]}\n",
      "{'id': 'chatcmpl-998a6800e0d04a28b6196e8580d8f92a', 'object': 'chat.completion.chunk', 'created': 1749730371, 'model': 'Qwen/Qwen3-235B-A22B', 'choices': [{'index': 0, 'delta': {'content': ' the', 'tool_calls': []}}]}\n",
      "{'id': 'chatcmpl-998a6800e0d04a28b6196e8580d8f92a', 'object': 'chat.completion.chunk', 'created': 1749730371, 'model': 'Qwen/Qwen3-235B-A22B', 'choices': [{'index': 0, 'delta': {'content': ' other', 'tool_calls': []}}]}\n",
      "{'id': 'chatcmpl-998a6800e0d04a28b6196e8580d8f92a', 'object': 'chat.completion.chunk', 'created': 1749730371, 'model': 'Qwen/Qwen3-235B-A22B', 'choices': [{'index': 0, 'delta': {'content': ' hand', 'tool_calls': []}}]}\n",
      "{'id': 'chatcmpl-998a6800e0d04a28b6196e8580d8f92a', 'object': 'chat.completion.chunk', 'created': 1749730371, 'model': 'Qwen/Qwen3-235B-A22B', 'choices': [{'index': 0, 'delta': {'content': ',', 'tool_calls': []}}]}\n",
      "{'id': 'chatcmpl-998a6800e0d04a28b6196e8580d8f92a', 'object': 'chat.completion.chunk', 'created': 1749730371, 'model': 'Qwen/Qwen3-235B-A22B', 'choices': [{'index': 0, 'delta': {'content': ' claiming', 'tool_calls': []}}]}\n",
      "{'id': 'chatcmpl-998a6800e0d04a28b6196e8580d8f92a', 'object': 'chat.completion.chunk', 'created': 1749730371, 'model': 'Qwen/Qwen3-235B-A22B', 'choices': [{'index': 0, 'delta': {'content': ' to', 'tool_calls': []}}]}\n",
      "{'id': 'chatcmpl-998a6800e0d04a28b6196e8580d8f92a', 'object': 'chat.completion.chunk', 'created': 1749730371, 'model': 'Qwen/Qwen3-235B-A22B', 'choices': [{'index': 0, 'delta': {'content': ' have', 'tool_calls': []}}]}\n",
      "{'id': 'chatcmpl-998a6800e0d04a28b6196e8580d8f92a', 'object': 'chat.completion.chunk', 'created': 1749730371, 'model': 'Qwen/Qwen3-235B-A22B', 'choices': [{'index': 0, 'delta': {'content': ' feelings', 'tool_calls': []}}]}\n",
      "{'id': 'chatcmpl-998a6800e0d04a28b6196e8580d8f92a', 'object': 'chat.completion.chunk', 'created': 1749730371, 'model': 'Qwen/Qwen3-235B-A22B', 'choices': [{'index': 0, 'delta': {'content': ' I', 'tool_calls': []}}]}\n",
      "{'id': 'chatcmpl-998a6800e0d04a28b6196e8580d8f92a', 'object': 'chat.completion.chunk', 'created': 1749730371, 'model': 'Qwen/Qwen3-235B-A22B', 'choices': [{'index': 0, 'delta': {'content': ' don', 'tool_calls': []}}]}\n",
      "{'id': 'chatcmpl-998a6800e0d04a28b6196e8580d8f92a', 'object': 'chat.completion.chunk', 'created': 1749730371, 'model': 'Qwen/Qwen3-235B-A22B', 'choices': [{'index': 0, 'delta': {'content': \"'t\", 'tool_calls': []}}]}\n",
      "{'id': 'chatcmpl-998a6800e0d04a28b6196e8580d8f92a', 'object': 'chat.completion.chunk', 'created': 1749730371, 'model': 'Qwen/Qwen3-235B-A22B', 'choices': [{'index': 0, 'delta': {'content': ' possess', 'tool_calls': []}}]}\n",
      "{'id': 'chatcmpl-998a6800e0d04a28b6196e8580d8f92a', 'object': 'chat.completion.chunk', 'created': 1749730371, 'model': 'Qwen/Qwen3-235B-A22B', 'choices': [{'index': 0, 'delta': {'content': ' would', 'tool_calls': []}}]}\n",
      "{'id': 'chatcmpl-998a6800e0d04a28b6196e8580d8f92a', 'object': 'chat.completion.chunk', 'created': 1749730371, 'model': 'Qwen/Qwen3-235B-A22B', 'choices': [{'index': 0, 'delta': {'content': ' be', 'tool_calls': []}}]}\n",
      "{'id': 'chatcmpl-998a6800e0d04a28b6196e8580d8f92a', 'object': 'chat.completion.chunk', 'created': 1749730371, 'model': 'Qwen/Qwen3-235B-A22B', 'choices': [{'index': 0, 'delta': {'content': ' misleading', 'tool_calls': []}}]}\n",
      "{'id': 'chatcmpl-998a6800e0d04a28b6196e8580d8f92a', 'object': 'chat.completion.chunk', 'created': 1749730371, 'model': 'Qwen/Qwen3-235B-A22B', 'choices': [{'index': 0, 'delta': {'content': '.', 'tool_calls': []}}]}\n",
      "{'id': 'chatcmpl-998a6800e0d04a28b6196e8580d8f92a', 'object': 'chat.completion.chunk', 'created': 1749730371, 'model': 'Qwen/Qwen3-235B-A22B', 'choices': [{'index': 0, 'delta': {'content': ' This', 'tool_calls': []}}]}\n",
      "{'id': 'chatcmpl-998a6800e0d04a28b6196e8580d8f92a', 'object': 'chat.completion.chunk', 'created': 1749730371, 'model': 'Qwen/Qwen3-235B-A22B', 'choices': [{'index': 0, 'delta': {'content': ' requires', 'tool_calls': []}}]}\n",
      "{'id': 'chatcmpl-998a6800e0d04a28b6196e8580d8f92a', 'object': 'chat.completion.chunk', 'created': 1749730371, 'model': 'Qwen/Qwen3-235B-A22B', 'choices': [{'index': 0, 'delta': {'content': ' a', 'tool_calls': []}}]}\n",
      "{'id': 'chatcmpl-998a6800e0d04a28b6196e8580d8f92a', 'object': 'chat.completion.chunk', 'created': 1749730371, 'model': 'Qwen/Qwen3-235B-A22B', 'choices': [{'index': 0, 'delta': {'content': ' balanced', 'tool_calls': []}}]}\n",
      "{'id': 'chatcmpl-998a6800e0d04a28b6196e8580d8f92a', 'object': 'chat.completion.chunk', 'created': 1749730371, 'model': 'Qwen/Qwen3-235B-A22B', 'choices': [{'index': 0, 'delta': {'content': ' approach', 'tool_calls': []}}]}\n",
      "{'id': 'chatcmpl-998a6800e0d04a28b6196e8580d8f92a', 'object': 'chat.completion.chunk', 'created': 1749730371, 'model': 'Qwen/Qwen3-235B-A22B', 'choices': [{'index': 0, 'delta': {'content': ' that', 'tool_calls': []}, 'finish_reason': 'length'}]}\n"
     ]
    }
   ],
   "source": [
    "# Use invoke_endpoint_with_response_stream for streaming\n",
    "response = runtime_sm_client.invoke_endpoint_with_response_stream(\n",
    "    EndpointName=endpoint_name,\n",
    "    ContentType='application/json',\n",
    "    Body=json.dumps(payload)\n",
    ")\n",
    "\n",
    "# Buffer for partial JSON\n",
    "buffer = \"\"\n",
    "\n",
    "# Process streaming response\n",
    "for event in response['Body']:\n",
    "    chunk = event['PayloadPart']['Bytes'].decode('utf-8')\n",
    "    \n",
    "    # Add new chunk to buffer\n",
    "    buffer += chunk\n",
    "    \n",
    "    # Split by \"data: \" (SSE format)\n",
    "    parts = buffer.split(\"data: \")\n",
    "    \n",
    "    # Keep last incomplete part for next chunk\n",
    "    buffer = parts[-1]\n",
    "    \n",
    "    # Process complete parts\n",
    "    for part in parts[:-1]:\n",
    "        if not part.strip():\n",
    "            continue\n",
    "            \n",
    "        try:\n",
    "            # Parse JSON\n",
    "            chunk_data = json.loads(part.strip())\n",
    "            print(chunk_data)\n",
    "            # Extract content\n",
    "            # Implement here the parsing\n",
    "                    \n",
    "        except json.JSONDecodeError as e:\n",
    "            print(f\"[ERROR] Failed to parse: {part[:50]}... | Error: {e}\")"
   ]
  },
  {
   "cell_type": "code",
   "execution_count": null,
   "id": "b86eb49d-5f67-4cc9-a1e5-3d3378782816",
   "metadata": {},
   "outputs": [],
   "source": []
  }
 ],
 "metadata": {
  "kernelspec": {
   "display_name": "conda_pytorch_p310",
   "language": "python",
   "name": "conda_pytorch_p310"
  },
  "language_info": {
   "codemirror_mode": {
    "name": "ipython",
    "version": 3
   },
   "file_extension": ".py",
   "mimetype": "text/x-python",
   "name": "python",
   "nbconvert_exporter": "python",
   "pygments_lexer": "ipython3",
   "version": "3.10.14"
  }
 },
 "nbformat": 4,
 "nbformat_minor": 5
}
