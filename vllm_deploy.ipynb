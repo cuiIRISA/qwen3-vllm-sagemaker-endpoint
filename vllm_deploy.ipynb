{
 "cells": [
  {
   "attachments": {},
   "cell_type": "markdown",
   "id": "7cd89534-9dc8-47a5-baf5-40fd6056c218",
   "metadata": {},
   "source": [
    "# Deploy Qwen3 using vLLM with SageMaker vLLM 0.9.0"
   ]
  },
  {
   "cell_type": "markdown",
   "id": "37767cdd-46c7-494b-a7f1-eecb061e5375",
   "metadata": {},
   "source": [
    "## 0. Needed IAM Role Permissions\n",
    "\n",
    "- AmazonEC2ContainerRegistryFullAccess"
   ]
  },
  {
   "cell_type": "markdown",
   "id": "42a74d18-2ff5-411b-a45b-3f785aebc2ee",
   "metadata": {},
   "source": [
    "## 1. Create and Push Image to ECR **[ONLY RUN ONCE]**"
   ]
  },
  {
   "cell_type": "code",
   "execution_count": null,
   "id": "039279a1-d0ad-4266-beae-83b36cc959de",
   "metadata": {
    "tags": []
   },
   "outputs": [],
   "source": [
    "!pip install -U --quiet sagemaker boto3 awscli"
   ]
  },
  {
   "cell_type": "code",
   "execution_count": 1,
   "id": "b3957ae2-3b1f-4e46-b866-bdf9d2d8da9f",
   "metadata": {
    "tags": []
   },
   "outputs": [
    {
     "name": "stderr",
     "output_type": "stream",
     "text": [
      "/home/ec2-user/anaconda3/envs/pytorch_p310/lib/python3.10/site-packages/pydantic/_internal/_fields.py:192: UserWarning: Field name \"json\" in \"MonitoringDatasetFormat\" shadows an attribute in parent \"Base\"\n",
      "  warnings.warn(\n"
     ]
    },
    {
     "data": {
      "text/html": [
       "<pre style=\"white-space:pre;overflow-x:auto;line-height:normal;font-family:Menlo,'DejaVu Sans Mono',consolas,'Courier New',monospace\"><span style=\"color: #7fbfbf; text-decoration-color: #7fbfbf\">[05/28/25 07:13:11] </span><span style=\"color: #0069ff; text-decoration-color: #0069ff; font-weight: bold\">INFO    </span> Found credentials from IAM Role:                                   <a href=\"file:///home/ec2-user/anaconda3/envs/pytorch_p310/lib/python3.10/site-packages/botocore/credentials.py\" target=\"_blank\"><span style=\"color: #7f7f7f; text-decoration-color: #7f7f7f\">credentials.py</span></a><span style=\"color: #7f7f7f; text-decoration-color: #7f7f7f\">:</span><a href=\"file:///home/ec2-user/anaconda3/envs/pytorch_p310/lib/python3.10/site-packages/botocore/credentials.py#1132\" target=\"_blank\"><span style=\"color: #7f7f7f; text-decoration-color: #7f7f7f\">1132</span></a>\n",
       "<span style=\"color: #7fbfbf; text-decoration-color: #7fbfbf\">                    </span>         BaseNotebookInstanceEc2InstanceRole                                <span style=\"color: #7f7f7f; text-decoration-color: #7f7f7f\">                   </span>\n",
       "</pre>\n"
      ],
      "text/plain": [
       "\u001b[2;36m[05/28/25 07:13:11]\u001b[0m\u001b[2;36m \u001b[0m\u001b[1;38;2;0;105;255mINFO    \u001b[0m Found credentials from IAM Role:                                   \u001b]8;id=141724;file:///home/ec2-user/anaconda3/envs/pytorch_p310/lib/python3.10/site-packages/botocore/credentials.py\u001b\\\u001b[2mcredentials.py\u001b[0m\u001b]8;;\u001b\\\u001b[2m:\u001b[0m\u001b]8;id=626706;file:///home/ec2-user/anaconda3/envs/pytorch_p310/lib/python3.10/site-packages/botocore/credentials.py#1132\u001b\\\u001b[2m1132\u001b[0m\u001b]8;;\u001b\\\n",
       "\u001b[2;36m                    \u001b[0m         BaseNotebookInstanceEc2InstanceRole                                \u001b[2m                   \u001b[0m\n"
      ]
     },
     "metadata": {},
     "output_type": "display_data"
    },
    {
     "name": "stdout",
     "output_type": "stream",
     "text": [
      "sagemaker.config INFO - Not applying SDK defaults from location: /etc/xdg/sagemaker/config.yaml\n",
      "sagemaker.config INFO - Not applying SDK defaults from location: /home/ec2-user/.config/sagemaker/config.yaml\n"
     ]
    },
    {
     "data": {
      "text/html": [
       "<pre style=\"white-space:pre;overflow-x:auto;line-height:normal;font-family:Menlo,'DejaVu Sans Mono',consolas,'Courier New',monospace\"><span style=\"color: #7fbfbf; text-decoration-color: #7fbfbf\">[05/28/25 07:13:12] </span><span style=\"color: #0069ff; text-decoration-color: #0069ff; font-weight: bold\">INFO    </span> Found credentials from IAM Role:                                   <a href=\"file:///home/ec2-user/anaconda3/envs/pytorch_p310/lib/python3.10/site-packages/botocore/credentials.py\" target=\"_blank\"><span style=\"color: #7f7f7f; text-decoration-color: #7f7f7f\">credentials.py</span></a><span style=\"color: #7f7f7f; text-decoration-color: #7f7f7f\">:</span><a href=\"file:///home/ec2-user/anaconda3/envs/pytorch_p310/lib/python3.10/site-packages/botocore/credentials.py#1132\" target=\"_blank\"><span style=\"color: #7f7f7f; text-decoration-color: #7f7f7f\">1132</span></a>\n",
       "<span style=\"color: #7fbfbf; text-decoration-color: #7fbfbf\">                    </span>         BaseNotebookInstanceEc2InstanceRole                                <span style=\"color: #7f7f7f; text-decoration-color: #7f7f7f\">                   </span>\n",
       "</pre>\n"
      ],
      "text/plain": [
       "\u001b[2;36m[05/28/25 07:13:12]\u001b[0m\u001b[2;36m \u001b[0m\u001b[1;38;2;0;105;255mINFO    \u001b[0m Found credentials from IAM Role:                                   \u001b]8;id=385343;file:///home/ec2-user/anaconda3/envs/pytorch_p310/lib/python3.10/site-packages/botocore/credentials.py\u001b\\\u001b[2mcredentials.py\u001b[0m\u001b]8;;\u001b\\\u001b[2m:\u001b[0m\u001b]8;id=451965;file:///home/ec2-user/anaconda3/envs/pytorch_p310/lib/python3.10/site-packages/botocore/credentials.py#1132\u001b\\\u001b[2m1132\u001b[0m\u001b]8;;\u001b\\\n",
       "\u001b[2;36m                    \u001b[0m         BaseNotebookInstanceEc2InstanceRole                                \u001b[2m                   \u001b[0m\n"
      ]
     },
     "metadata": {},
     "output_type": "display_data"
    }
   ],
   "source": [
    "import boto3\n",
    "import sagemaker\n",
    "from sagemaker import get_execution_role\n",
    "\n",
    "ACCOUNT_ID = boto3.client('sts').get_caller_identity().get('Account')\n",
    "REGION_NAME = 'us-west-2'  # set your region name here\n",
    "REPO_NAME = \"vllm_env\"  # set your repo name here\n",
    "VERSION = \"v0.9.0\"\n",
    "\n",
    "CONTAINER = f\"{ACCOUNT_ID}.dkr.ecr.{REGION_NAME}.amazonaws.com/{REPO_NAME}:{VERSION}\""
   ]
  },
  {
   "cell_type": "code",
   "execution_count": 2,
   "id": "62614586-a59c-42f3-b302-a2280f82ad20",
   "metadata": {
    "tags": []
   },
   "outputs": [
    {
     "name": "stdout",
     "output_type": "stream",
     "text": [
      "{\n",
      "    \"repository\": {\n",
      "        \"repositoryArn\": \"arn:aws:ecr:us-west-2:707684582322:repository/vllm_env\",\n",
      "        \"registryId\": \"707684582322\",\n",
      "        \"repositoryName\": \"vllm_env\",\n",
      "        \"repositoryUri\": \"707684582322.dkr.ecr.us-west-2.amazonaws.com/vllm_env\",\n",
      "        \"createdAt\": 1748416400.984,\n",
      "        \"imageTagMutability\": \"MUTABLE\",\n",
      "        \"imageScanningConfiguration\": {\n",
      "            \"scanOnPush\": false\n",
      "        },\n",
      "        \"encryptionConfiguration\": {\n",
      "            \"encryptionType\": \"AES256\"\n",
      "        }\n",
      "    }\n",
      "}\n"
     ]
    }
   ],
   "source": [
    "# Create ECR repo\n",
    "# ⚠️ Please add AmazonEC2ContainerRegistryFullAccess permission to your IAM Role.\n",
    "!aws ecr describe-repositories --repository-names {REPO_NAME} --region {REGION_NAME} > /dev/null 2>&1 || aws ecr create-repository --repository-name {REPO_NAME} --region {REGION_NAME}"
   ]
  },
  {
   "cell_type": "code",
   "execution_count": 3,
   "id": "95faa287-d8e7-4296-ae43-7036180fc1d9",
   "metadata": {
    "tags": []
   },
   "outputs": [
    {
     "name": "stdout",
     "output_type": "stream",
     "text": [
      "WARNING! Your password will be stored unencrypted in /home/ec2-user/.docker/config.json.\n",
      "Configure a credential helper to remove this warning. See\n",
      "https://docs.docker.com/engine/reference/commandline/login/#credentials-store\n",
      "\n",
      "Login Succeeded\n",
      "Building docker. This may take few minutes...\n",
      "sha256:ce1ef5a63a55fda0ab4c3c8e3110c444f861e97f9317a89845c98e5a8cb4dbfb\n"
     ]
    }
   ],
   "source": [
    "# Build image\n",
    "CONTAINER = f\"{ACCOUNT_ID}.dkr.ecr.{REGION_NAME}.amazonaws.com/{REPO_NAME}:{VERSION}\"\n",
    "\n",
    "!aws ecr get-login-password --region {REGION_NAME} | docker login --username AWS --password-stdin {ACCOUNT_ID}.dkr.ecr.{REGION_NAME}.amazonaws.com\n",
    "print('Building docker. This may take few minutes...')\n",
    "!docker build --quiet --build-arg VERSION={VERSION} -t {REPO_NAME}:{VERSION} ."
   ]
  },
  {
   "cell_type": "code",
   "execution_count": 4,
   "id": "b1a15083-24ce-47bb-af0e-4df71499f692",
   "metadata": {
    "tags": []
   },
   "outputs": [
    {
     "name": "stdout",
     "output_type": "stream",
     "text": [
      "Pushing docker. This may take few minutes...\n",
      "The push refers to repository [707684582322.dkr.ecr.us-west-2.amazonaws.com/vllm_env]\n",
      "\n",
      "\u001b[1B4b125137: Preparing \n",
      "\u001b[1B5512ec86: Preparing \n",
      "\u001b[1B81d97e6f: Preparing \n",
      "\u001b[1B08cb7a01: Preparing \n",
      "\u001b[1Bb493b5dd: Preparing \n",
      "\u001b[1B5a093913: Preparing \n",
      "\u001b[1Be0fe2c90: Preparing \n",
      "\u001b[1B5c61a51d: Preparing \n",
      "\u001b[1B07f221b0: Preparing \n",
      "\u001b[1B9783bfa4: Preparing \n",
      "\u001b[1B75a9c340: Preparing \n",
      "\u001b[1Be31b14be: Preparing \n",
      "\u001b[1Ba4092c27: Preparing \n",
      "\u001b[1B852f509a: Preparing \n",
      "\u001b[1B75852a44: Preparing \n",
      "\u001b[1Baa4bda21: Preparing \n",
      "\u001b[1B4454a678: Preparing \n",
      "\u001b[1B0d2ed199: Preparing \n",
      "\u001b[1Bae9b9700: Preparing \n",
      "\u001b[1B510c7b4b: Preparing \n",
      "\u001b[1B58f70e37: Preparing \n",
      "\u001b[1B5f276e98: Preparing \n",
      "\u001b[16Bc61a51d: Waiting g \n",
      "\u001b[16B7f221b0: Waiting g \n",
      "\u001b[15B5a9c340: Waiting g \n",
      "\u001b[17B783bfa4: Waiting g \n",
      "\u001b[10Bd2ed199: Waiting g \n",
      "v0.9.0: digest: sha256:4d5382d232973e92048af7285c48b70472d3bfbb59a5e38e21d835c59005a9ab size: 6193\n"
     ]
    }
   ],
   "source": [
    "# Push image to ECR\n",
    "# ⚠️ Please add AmazonEC2ContainerRegistryFullAccess permission to your IAM Role.\n",
    "!docker tag {REPO_NAME}:{VERSION} {CONTAINER}\n",
    "print('Pushing docker. This may take few minutes...')\n",
    "!docker push {CONTAINER}"
   ]
  },
  {
   "cell_type": "code",
   "execution_count": 5,
   "id": "1e6699df-822f-479b-bb1e-9ae494764c40",
   "metadata": {
    "tags": []
   },
   "outputs": [
    {
     "name": "stdout",
     "output_type": "stream",
     "text": [
      "Please use this container url for further deployment!\n",
      "707684582322.dkr.ecr.us-west-2.amazonaws.com/vllm_env:v0.9.0\n"
     ]
    }
   ],
   "source": [
    "print('Please use this container url for further deployment!')\n",
    "print(CONTAINER)"
   ]
  },
  {
   "cell_type": "markdown",
   "id": "018c632b",
   "metadata": {},
   "source": [
    "## 2. Deploy"
   ]
  },
  {
   "cell_type": "code",
   "execution_count": 8,
   "id": "0651d827-0dd0-487b-9163-185020c001e1",
   "metadata": {},
   "outputs": [],
   "source": [
    "# ⚠️ Please add AmazonS3FullAccess permission to your IAM Role.\n",
    "REGION_NAME = \"us-west-2\"  # Set your region name\n",
    "\n",
    "INSTANCE_TYPE = 'ml.g5.2xlarge'\n",
    "INITIAL_INSTANCE_COUNT = 1\n",
    "\n",
    "# Set vLLM Options.\n",
    "# Sagemaker uses environment variables (with \"SM_VLLM_\" prefix) to control vLLM Server's options\n",
    "# E.g., \"--max_model_len 512\" equals to {\"SM_VLLM_MAX_MODEL_LEN\": \"512\"}\n",
    "VLLM_ENV = {\n",
    "    'SM_VLLM_MODEL': \"Qwen/Qwen3-8B\",\n",
    "    'SM_VLLM_TENSOR_PARALLEL_SIZE': '1',\n",
    "    'SM_VLLM_MAX_MODEL_LEN': '16384',\n",
    "    'SM_VLLM_MAX_NUM_SEQS': '8',\n",
    "    'SM_VLLM_GPU_MEMORY_UTILIZATION': '0.85',\n",
    "}\n"
   ]
  },
  {
   "cell_type": "code",
   "execution_count": 9,
   "id": "79fbaf75-ecb6-42b0-9edf-c23607716d63",
   "metadata": {
    "tags": []
   },
   "outputs": [
    {
     "data": {
      "text/html": [
       "<pre style=\"white-space:pre;overflow-x:auto;line-height:normal;font-family:Menlo,'DejaVu Sans Mono',consolas,'Courier New',monospace\"><span style=\"color: #7fbfbf; text-decoration-color: #7fbfbf\">[05/28/25 08:13:30] </span><span style=\"color: #0069ff; text-decoration-color: #0069ff; font-weight: bold\">INFO    </span> Found credentials from IAM Role:                                   <a href=\"file:///home/ec2-user/anaconda3/envs/pytorch_p310/lib/python3.10/site-packages/botocore/credentials.py\" target=\"_blank\"><span style=\"color: #7f7f7f; text-decoration-color: #7f7f7f\">credentials.py</span></a><span style=\"color: #7f7f7f; text-decoration-color: #7f7f7f\">:</span><a href=\"file:///home/ec2-user/anaconda3/envs/pytorch_p310/lib/python3.10/site-packages/botocore/credentials.py#1132\" target=\"_blank\"><span style=\"color: #7f7f7f; text-decoration-color: #7f7f7f\">1132</span></a>\n",
       "<span style=\"color: #7fbfbf; text-decoration-color: #7fbfbf\">                    </span>         BaseNotebookInstanceEc2InstanceRole                                <span style=\"color: #7f7f7f; text-decoration-color: #7f7f7f\">                   </span>\n",
       "</pre>\n"
      ],
      "text/plain": [
       "\u001b[2;36m[05/28/25 08:13:30]\u001b[0m\u001b[2;36m \u001b[0m\u001b[1;38;2;0;105;255mINFO    \u001b[0m Found credentials from IAM Role:                                   \u001b]8;id=311944;file:///home/ec2-user/anaconda3/envs/pytorch_p310/lib/python3.10/site-packages/botocore/credentials.py\u001b\\\u001b[2mcredentials.py\u001b[0m\u001b]8;;\u001b\\\u001b[2m:\u001b[0m\u001b]8;id=241048;file:///home/ec2-user/anaconda3/envs/pytorch_p310/lib/python3.10/site-packages/botocore/credentials.py#1132\u001b\\\u001b[2m1132\u001b[0m\u001b]8;;\u001b\\\n",
       "\u001b[2;36m                    \u001b[0m         BaseNotebookInstanceEc2InstanceRole                                \u001b[2m                   \u001b[0m\n"
      ]
     },
     "metadata": {},
     "output_type": "display_data"
    },
    {
     "data": {
      "text/html": [
       "<pre style=\"white-space:pre;overflow-x:auto;line-height:normal;font-family:Menlo,'DejaVu Sans Mono',consolas,'Courier New',monospace\"><span style=\"color: #7fbfbf; text-decoration-color: #7fbfbf\">                    </span><span style=\"color: #0069ff; text-decoration-color: #0069ff; font-weight: bold\">INFO    </span> Creating model with name: Qwen3-8B-<span style=\"color: #008080; text-decoration-color: #008080; font-weight: bold\">2025</span>-05-28-08-13-30-091             <a href=\"file:///home/ec2-user/anaconda3/envs/pytorch_p310/lib/python3.10/site-packages/sagemaker/session.py\" target=\"_blank\"><span style=\"color: #7f7f7f; text-decoration-color: #7f7f7f\">session.py</span></a><span style=\"color: #7f7f7f; text-decoration-color: #7f7f7f\">:</span><a href=\"file:///home/ec2-user/anaconda3/envs/pytorch_p310/lib/python3.10/site-packages/sagemaker/session.py#4105\" target=\"_blank\"><span style=\"color: #7f7f7f; text-decoration-color: #7f7f7f\">4105</span></a>\n",
       "</pre>\n"
      ],
      "text/plain": [
       "\u001b[2;36m                   \u001b[0m\u001b[2;36m \u001b[0m\u001b[1;38;2;0;105;255mINFO    \u001b[0m Creating model with name: Qwen3-8B-\u001b[1;36m2025\u001b[0m-05-28-08-13-30-091             \u001b]8;id=179991;file:///home/ec2-user/anaconda3/envs/pytorch_p310/lib/python3.10/site-packages/sagemaker/session.py\u001b\\\u001b[2msession.py\u001b[0m\u001b]8;;\u001b\\\u001b[2m:\u001b[0m\u001b]8;id=132408;file:///home/ec2-user/anaconda3/envs/pytorch_p310/lib/python3.10/site-packages/sagemaker/session.py#4105\u001b\\\u001b[2m4105\u001b[0m\u001b]8;;\u001b\\\n"
      ]
     },
     "metadata": {},
     "output_type": "display_data"
    },
    {
     "data": {
      "text/html": [
       "<pre style=\"white-space:pre;overflow-x:auto;line-height:normal;font-family:Menlo,'DejaVu Sans Mono',consolas,'Courier New',monospace\"><span style=\"color: #7fbfbf; text-decoration-color: #7fbfbf\">                    </span><span style=\"color: #0069ff; text-decoration-color: #0069ff; font-weight: bold\">INFO    </span> Creating endpoint-config with name Qwen3-8B-<span style=\"color: #008080; text-decoration-color: #008080; font-weight: bold\">2025</span>-05-28-08-13-30-292    <a href=\"file:///home/ec2-user/anaconda3/envs/pytorch_p310/lib/python3.10/site-packages/sagemaker/session.py\" target=\"_blank\"><span style=\"color: #7f7f7f; text-decoration-color: #7f7f7f\">session.py</span></a><span style=\"color: #7f7f7f; text-decoration-color: #7f7f7f\">:</span><a href=\"file:///home/ec2-user/anaconda3/envs/pytorch_p310/lib/python3.10/site-packages/sagemaker/session.py#6030\" target=\"_blank\"><span style=\"color: #7f7f7f; text-decoration-color: #7f7f7f\">6030</span></a>\n",
       "</pre>\n"
      ],
      "text/plain": [
       "\u001b[2;36m                   \u001b[0m\u001b[2;36m \u001b[0m\u001b[1;38;2;0;105;255mINFO    \u001b[0m Creating endpoint-config with name Qwen3-8B-\u001b[1;36m2025\u001b[0m-05-28-08-13-30-292    \u001b]8;id=562176;file:///home/ec2-user/anaconda3/envs/pytorch_p310/lib/python3.10/site-packages/sagemaker/session.py\u001b\\\u001b[2msession.py\u001b[0m\u001b]8;;\u001b\\\u001b[2m:\u001b[0m\u001b]8;id=771464;file:///home/ec2-user/anaconda3/envs/pytorch_p310/lib/python3.10/site-packages/sagemaker/session.py#6030\u001b\\\u001b[2m6030\u001b[0m\u001b]8;;\u001b\\\n"
      ]
     },
     "metadata": {},
     "output_type": "display_data"
    },
    {
     "data": {
      "text/html": [
       "<pre style=\"white-space:pre;overflow-x:auto;line-height:normal;font-family:Menlo,'DejaVu Sans Mono',consolas,'Courier New',monospace\"><span style=\"color: #7fbfbf; text-decoration-color: #7fbfbf\">[05/28/25 08:13:31] </span><span style=\"color: #0069ff; text-decoration-color: #0069ff; font-weight: bold\">INFO    </span> Creating endpoint with name Qwen3-8B-<span style=\"color: #008080; text-decoration-color: #008080; font-weight: bold\">2025</span>-05-28-08-13-30-292           <a href=\"file:///home/ec2-user/anaconda3/envs/pytorch_p310/lib/python3.10/site-packages/sagemaker/session.py\" target=\"_blank\"><span style=\"color: #7f7f7f; text-decoration-color: #7f7f7f\">session.py</span></a><span style=\"color: #7f7f7f; text-decoration-color: #7f7f7f\">:</span><a href=\"file:///home/ec2-user/anaconda3/envs/pytorch_p310/lib/python3.10/site-packages/sagemaker/session.py#4852\" target=\"_blank\"><span style=\"color: #7f7f7f; text-decoration-color: #7f7f7f\">4852</span></a>\n",
       "</pre>\n"
      ],
      "text/plain": [
       "\u001b[2;36m[05/28/25 08:13:31]\u001b[0m\u001b[2;36m \u001b[0m\u001b[1;38;2;0;105;255mINFO    \u001b[0m Creating endpoint with name Qwen3-8B-\u001b[1;36m2025\u001b[0m-05-28-08-13-30-292           \u001b]8;id=660578;file:///home/ec2-user/anaconda3/envs/pytorch_p310/lib/python3.10/site-packages/sagemaker/session.py\u001b\\\u001b[2msession.py\u001b[0m\u001b]8;;\u001b\\\u001b[2m:\u001b[0m\u001b]8;id=495777;file:///home/ec2-user/anaconda3/envs/pytorch_p310/lib/python3.10/site-packages/sagemaker/session.py#4852\u001b\\\u001b[2m4852\u001b[0m\u001b]8;;\u001b\\\n"
      ]
     },
     "metadata": {},
     "output_type": "display_data"
    },
    {
     "name": "stdout",
     "output_type": "stream",
     "text": [
      "----------------------!Endpoint Name: Qwen3-8B-2025-05-28-08-13-30-292\n"
     ]
    }
   ],
   "source": [
    "import os\n",
    "import boto3\n",
    "import datetime\n",
    "import sagemaker\n",
    "from sagemaker.s3 import S3Uploader\n",
    "\n",
    "\n",
    "timestamp = datetime.datetime.now().strftime(\"%Y-%m-%d-%H-%M-%S-%f\")[:-3]\n",
    "\n",
    "boto_session = boto3.Session(region_name=REGION_NAME)\n",
    "sagemaker_session = sagemaker.Session(boto_session=boto_session)\n",
    "iam_role = sagemaker.get_execution_role(sagemaker_session=sagemaker_session)\n",
    "\n",
    "# create a unique name\n",
    "model_name = f\"Qwen3-8B-{timestamp}\"\n",
    "endpoint_name = sagemaker.utils.name_from_base(\"Qwen3-8B\")\n",
    "\n",
    "model = sagemaker.Model(\n",
    "    name=model_name,\n",
    "    image_uri=CONTAINER,\n",
    "    sagemaker_session=sagemaker_session,\n",
    "    role=iam_role,\n",
    "    env=VLLM_ENV,\n",
    ")\n",
    "\n",
    "predictor = model.deploy(\n",
    "    instance_type=INSTANCE_TYPE,\n",
    "    initial_instance_count=INITIAL_INSTANCE_COUNT,\n",
    "    endpoint_name=endpoint_name\n",
    ")\n",
    "print(f'Endpoint Name: {endpoint_name}')"
   ]
  },
  {
   "cell_type": "markdown",
   "id": "61f17894",
   "metadata": {},
   "source": [
    "## 3. Test"
   ]
  },
  {
   "cell_type": "code",
   "execution_count": null,
   "id": "612d53fe-83b1-4760-82df-51b138f7c552",
   "metadata": {},
   "outputs": [],
   "source": []
  },
  {
   "cell_type": "code",
   "execution_count": 10,
   "id": "99506886",
   "metadata": {},
   "outputs": [],
   "source": [
    "endpoint_name = \"Qwen3-8B-2025-05-28-08-13-30-292\"  # Set your deployed endpoint name. You can find it in your SageMaker AI Dashboard\n",
    "REGION_NAME = \"us-west-2\"  # Set your region name"
   ]
  },
  {
   "cell_type": "code",
   "execution_count": 11,
   "id": "ba7c3afd-101a-45de-be7b-099b3420f9b2",
   "metadata": {
    "tags": []
   },
   "outputs": [
    {
     "name": "stdout",
     "output_type": "stream",
     "text": [
      "{'id': 'chatcmpl-d3f0eaa7b736400c8a4f502f6b034f05', 'object': 'chat.completion', 'created': 1748420707, 'model': 'Qwen/Qwen3-8B', 'choices': [{'index': 0, 'message': {'role': 'assistant', 'reasoning_content': None, 'content': '<think>\\nOkay, the user asked, \"How are you today?\" I need to respond appropriately. First, I should acknowledge their question and express that I\\'m here to help. Since I\\'m an AI, I don\\'t have feelings, so I should mention that I don\\'t experience emotions but am ready to assist. I should keep the tone friendly and open-ended to encourage them to share what they need help with. Let me make sure the response is clear and welcoming.\\n</think>\\n\\nHello! I\\'m just a virtual assistant, so I don\\'t have feelings or emotions like humans do. But I\\'m here and ready to help you with whatever you need! How can I assist you today? 😊', 'tool_calls': []}, 'logprobs': None, 'finish_reason': 'stop', 'stop_reason': None}], 'usage': {'prompt_tokens': 13, 'total_tokens': 155, 'completion_tokens': 142, 'prompt_tokens_details': None}, 'prompt_logprobs': None, 'kv_transfer_params': None}\n"
     ]
    }
   ],
   "source": [
    "import json\n",
    "import boto3\n",
    "import base64\n",
    "\n",
    "payload = {\n",
    "    \"model\": \"Qwen/Qwen3-8B\",\n",
    "    \"messages\": [\n",
    "        {\n",
    "            \"role\": \"user\",\n",
    "            \"content\": [\n",
    "                {\n",
    "                    \"type\": \"text\",\n",
    "                    \"text\": \"How are you today ?\"\n",
    "                }\n",
    "        ]}\n",
    "    ],\n",
    "    \"temperature\": 0.7,\n",
    "    \"max_tokens\": 4096,\n",
    "    \"stream\": False\n",
    "}\n",
    "\n",
    "runtime_sm_client = boto3.client('sagemaker-runtime', region_name=REGION_NAME)\n",
    "response = runtime_sm_client.invoke_endpoint(\n",
    "    EndpointName=endpoint_name,\n",
    "    ContentType='application/json',\n",
    "    Body=json.dumps(payload)\n",
    ")\n",
    "\n",
    "response_body = json.loads(response['Body'].read().decode())\n",
    "print(response_body)\n"
   ]
  },
  {
   "cell_type": "markdown",
   "id": "cc2faf66-b594-4166-a870-978fd2ed8ff3",
   "metadata": {},
   "source": [
    "# Streaming for longer session connection (up to 8 minutes)"
   ]
  },
  {
   "cell_type": "code",
   "execution_count": null,
   "id": "de3fc785-7ead-4688-a927-a11de6dbf56e",
   "metadata": {},
   "outputs": [],
   "source": []
  },
  {
   "cell_type": "code",
   "execution_count": 18,
   "id": "d8bd9266-ee09-4995-b5ab-e260d21f638e",
   "metadata": {},
   "outputs": [
    {
     "name": "stdout",
     "output_type": "stream",
     "text": [
      "<think>\n",
      "Okay, the user greeted me with \"How are you today?\" I need to respond appropriately. First, I should acknowledge their question and share my current state. Since I'm an AI, I don't have emotions, but I can express that I'm functioning well. I should keep the tone friendly and open-ended to encourage them to share their feelings.\n",
      "\n",
      "Maybe start with a simple \"I'm doing well!\" to show I'm in good shape. Then invite them to tell me about their day. That way, the conversation can flow naturally. I should also make sure the response is concise and not too lengthy. Let me check if there are any other elements to consider, like cultural nuances or if there's a specific reason they asked. But since it's a general greeting, keeping it straightforward is best. Alright, that should work.\n",
      "</think>\n",
      "\n",
      "I'm doing well! How about you? I'd love to hear about your day—what's been happening? 😊"
     ]
    }
   ],
   "source": [
    "# Use invoke_endpoint_with_response_stream for streaming\n",
    "response = runtime_sm_client.invoke_endpoint_with_response_stream(\n",
    "    EndpointName=endpoint_name,\n",
    "    ContentType='application/json',\n",
    "    Body=json.dumps(payload)\n",
    ")\n",
    "\n",
    "# Buffer for partial JSON\n",
    "buffer = \"\"\n",
    "\n",
    "# Process streaming response\n",
    "for event in response['Body']:\n",
    "    chunk = event['PayloadPart']['Bytes'].decode('utf-8')\n",
    "    \n",
    "    # Add new chunk to buffer\n",
    "    buffer += chunk\n",
    "    \n",
    "    # Split by \"data: \" (SSE format)\n",
    "    parts = buffer.split(\"data: \")\n",
    "    \n",
    "    # Keep last incomplete part for next chunk\n",
    "    buffer = parts[-1]\n",
    "    \n",
    "    # Process complete parts\n",
    "    for part in parts[:-1]:\n",
    "        if not part.strip():\n",
    "            continue\n",
    "            \n",
    "        try:\n",
    "            # Parse JSON\n",
    "            chunk_data = json.loads(part.strip())\n",
    "            \n",
    "            # Extract content\n",
    "            if 'choices' in chunk_data and chunk_data['choices']:\n",
    "                content = chunk_data['choices'][0]['delta'].get('content', '')\n",
    "                if content:\n",
    "                    print(content, end='', flush=True)\n",
    "                    \n",
    "        except json.JSONDecodeError as e:\n",
    "            print(f\"[ERROR] Failed to parse: {part[:50]}... | Error: {e}\")"
   ]
  },
  {
   "cell_type": "code",
   "execution_count": null,
   "id": "b86eb49d-5f67-4cc9-a1e5-3d3378782816",
   "metadata": {},
   "outputs": [],
   "source": []
  }
 ],
 "metadata": {
  "kernelspec": {
   "display_name": "conda_pytorch_p310",
   "language": "python",
   "name": "conda_pytorch_p310"
  },
  "language_info": {
   "codemirror_mode": {
    "name": "ipython",
    "version": 3
   },
   "file_extension": ".py",
   "mimetype": "text/x-python",
   "name": "python",
   "nbconvert_exporter": "python",
   "pygments_lexer": "ipython3",
   "version": "3.10.14"
  }
 },
 "nbformat": 4,
 "nbformat_minor": 5
}
